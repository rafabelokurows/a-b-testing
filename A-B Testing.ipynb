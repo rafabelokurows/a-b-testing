{
 "cells": [
  {
   "cell_type": "markdown",
   "metadata": {},
   "source": [
    "# Teste A/B\n",
    "\n",
    "Em termos de Marketing Digital, Testes A/B são ferramentas importantes utilizadas para medir o feedback de um consumidor a uma alteração em um produto digital. Eles podem ser utilizados em uma grande variedade de canais e mídias e vão ajudar a compreender melhor como o seu consumidor reage a uma mudança no seu site ou aplicativo móvel.  \n",
    "\n",
    "Parâmetros como a duração do teste e a extensão da mudança a ser testada devem ser definidos com base na sua taxa de acessos/downloads/instalações. Um teste A/B de uma simples mudança de cor de um botão, por exemplo, pode levar dias para capturar as informações necessárias para determinar se a mudança atingiu o objetivo ou não.\n",
    "Você pode calcular aqui o tamanho necessário da amostra para um determinado teste: https://ferramentas.resultadosdigitais.com.br/calculadora-teste-ab/amostra  \n",
    "\n",
    "Esse artigo destina-se a ser uma análise rápida dos dados resultantes de um teste A/B de um jogo para Android chamado Cookie Cats.\n",
    "A ideia é analisar os efeitos na quantidade de níveis jogados com a adição de uma parada em dois momentos do jogo, após o nível 30 ou após o nível 40. Capturando dados de um número suficiente de jogadores, a equipe de desenvolvedores pode determinar qual o melhor curso de ação e ter uma melhor base para futuras mudanças.\n",
    "\n",
    "Os dados foram obtidos no Kaggle, através do seguinte link: https://www.kaggle.com/yufengsui/mobile-games-ab-testing.\n",
    "Serão utilizados packages básicos de Python:\n",
    "- Pandas: para análise e manipulação dos dados\n",
    "- Matplotlib: para apresentação de gráficos\n",
    "- Scipy: para a realização de testes estatísticos\n"
   ]
  },
  {
   "cell_type": "markdown",
   "metadata": {},
   "source": [
    "## Os dados"
   ]
  },
  {
   "cell_type": "code",
   "execution_count": 63,
   "metadata": {},
   "outputs": [],
   "source": [
    "import pandas as pd\n",
    "import matplotlib.pyplot as plt\n",
    "from scipy import stats\n",
    "from scipy.stats import skew\n",
    "\n",
    "%matplotlib inline\n",
    "cookies = pd.read_csv('cookie_cats.csv')"
   ]
  },
  {
   "cell_type": "code",
   "execution_count": 49,
   "metadata": {},
   "outputs": [
    {
     "name": "stdout",
     "output_type": "stream",
     "text": [
      "<class 'pandas.core.frame.DataFrame'>\n",
      "RangeIndex: 90189 entries, 0 to 90188\n",
      "Data columns (total 5 columns):\n",
      " #   Column          Non-Null Count  Dtype \n",
      "---  ------          --------------  ----- \n",
      " 0   userid          90189 non-null  int64 \n",
      " 1   version         90189 non-null  object\n",
      " 2   sum_gamerounds  90189 non-null  int64 \n",
      " 3   retention_1     90189 non-null  bool  \n",
      " 4   retention_7     90189 non-null  bool  \n",
      "dtypes: bool(2), int64(2), object(1)\n",
      "memory usage: 2.2+ MB\n"
     ]
    }
   ],
   "source": [
    "cookies.info()"
   ]
  },
  {
   "cell_type": "code",
   "execution_count": 5,
   "metadata": {},
   "outputs": [
    {
     "data": {
      "text/html": [
       "<div>\n",
       "<style scoped>\n",
       "    .dataframe tbody tr th:only-of-type {\n",
       "        vertical-align: middle;\n",
       "    }\n",
       "\n",
       "    .dataframe tbody tr th {\n",
       "        vertical-align: top;\n",
       "    }\n",
       "\n",
       "    .dataframe thead th {\n",
       "        text-align: right;\n",
       "    }\n",
       "</style>\n",
       "<table border=\"1\" class=\"dataframe\">\n",
       "  <thead>\n",
       "    <tr style=\"text-align: right;\">\n",
       "      <th></th>\n",
       "      <th>userid</th>\n",
       "      <th>version</th>\n",
       "      <th>sum_gamerounds</th>\n",
       "      <th>retention_1</th>\n",
       "      <th>retention_7</th>\n",
       "    </tr>\n",
       "  </thead>\n",
       "  <tbody>\n",
       "    <tr>\n",
       "      <th>0</th>\n",
       "      <td>116</td>\n",
       "      <td>gate_30</td>\n",
       "      <td>3</td>\n",
       "      <td>False</td>\n",
       "      <td>False</td>\n",
       "    </tr>\n",
       "    <tr>\n",
       "      <th>1</th>\n",
       "      <td>337</td>\n",
       "      <td>gate_30</td>\n",
       "      <td>38</td>\n",
       "      <td>True</td>\n",
       "      <td>False</td>\n",
       "    </tr>\n",
       "    <tr>\n",
       "      <th>2</th>\n",
       "      <td>377</td>\n",
       "      <td>gate_40</td>\n",
       "      <td>165</td>\n",
       "      <td>True</td>\n",
       "      <td>False</td>\n",
       "    </tr>\n",
       "    <tr>\n",
       "      <th>3</th>\n",
       "      <td>483</td>\n",
       "      <td>gate_40</td>\n",
       "      <td>1</td>\n",
       "      <td>False</td>\n",
       "      <td>False</td>\n",
       "    </tr>\n",
       "    <tr>\n",
       "      <th>4</th>\n",
       "      <td>488</td>\n",
       "      <td>gate_40</td>\n",
       "      <td>179</td>\n",
       "      <td>True</td>\n",
       "      <td>True</td>\n",
       "    </tr>\n",
       "  </tbody>\n",
       "</table>\n",
       "</div>"
      ],
      "text/plain": [
       "   userid  version  sum_gamerounds  retention_1  retention_7\n",
       "0     116  gate_30               3        False        False\n",
       "1     337  gate_30              38         True        False\n",
       "2     377  gate_40             165         True        False\n",
       "3     483  gate_40               1        False        False\n",
       "4     488  gate_40             179         True         True"
      ]
     },
     "execution_count": 5,
     "metadata": {},
     "output_type": "execute_result"
    }
   ],
   "source": [
    "cookies.head()"
   ]
  },
  {
   "cell_type": "markdown",
   "metadata": {},
   "source": [
    "Não há valores faltantes.\n",
    "Temos **5** colunas com informações para **90189** usuários:\n",
    "- userid - identificador único de usuário\n",
    "- version - o grupo que o usuário foi colocado: controle (gate_30 - um portão no nível 30) ou teste (gate_40 - um portão no nível 40).\n",
    "- sum_gamerounds - o número de fases jogadas nos primeiros 14 dias depois da instalação\n",
    "- retention_1 - o jogador voltou a jogar 1 dia depois de instalar?\n",
    "- retention_7 - o jogador voltou a jogar 7 dias depois de instalar?  \n",
    "\n",
    "\n",
    "A coluna que nos interessa inicialmente é a coluna **sum_gamerounds**, pois queremos analisar se houve uma diferença no comportamento dos jogadores entre os que viram o portão no nível 30 e os que viram o portão no nível 40."
   ]
  },
  {
   "cell_type": "code",
   "execution_count": 45,
   "metadata": {},
   "outputs": [
    {
     "data": {
      "text/plain": [
       "57702    49854\n",
       "7912      2961\n",
       "29417     2640\n",
       "43671     2438\n",
       "48188     2294\n",
       "46344     2251\n",
       "87007     2156\n",
       "36933     2124\n",
       "88328     2063\n",
       "6536      2015\n",
       "Name: sum_gamerounds, dtype: int64"
      ]
     },
     "execution_count": 45,
     "metadata": {},
     "output_type": "execute_result"
    }
   ],
   "source": [
    "cookies.sum_gamerounds.nlargest(10)"
   ]
  },
  {
   "cell_type": "markdown",
   "metadata": {},
   "source": [
    "Há um claro **outlier**, um usuário que jogou 49854 níveis nos primeiros 14 dias depois de instalar o jogo. Dos 10 usuários que jogaram mais níveis, depois deste, ocorre uma queda mais natural. Vamos remover esse outlier para uma visão estatística mais simétrica.  \n",
    "Obs: se outliers tão extremos fossem/forem mais comumente encontrados numa análise de dados a longo prazo, medidas diferentes poderiam ser tomadas."
   ]
  },
  {
   "cell_type": "code",
   "execution_count": 64,
   "metadata": {},
   "outputs": [
    {
     "data": {
      "text/plain": [
       "count    90188.000000\n",
       "mean        51.320253\n",
       "std        102.682719\n",
       "min          0.000000\n",
       "25%          5.000000\n",
       "50%         16.000000\n",
       "75%         51.000000\n",
       "max       2961.000000\n",
       "Name: sum_gamerounds, dtype: float64"
      ]
     },
     "execution_count": 64,
     "metadata": {},
     "output_type": "execute_result"
    }
   ],
   "source": [
    "cookies = cookies[cookies.sum_gamerounds < 10000]\n",
    "cookies.sum_gamerounds.describe()"
   ]
  },
  {
   "cell_type": "markdown",
   "metadata": {},
   "source": [
    "Com o outlier removido, vemos que os usuários em média avançaram 51 níveis nos primeiros 14 dias, mas deve-se ter em mente que esse número está distorcido pela alta quantidade de níveis que poucos usuários avançaram.\n",
    "Olhando os quartis, vemos que:\n",
    "- 25% dos usuários avançaram de 0 a 5 níveis\n",
    "- 50% dos usuários avançaram até 16 níveis\n",
    "- 75% dos usuários avançaram até 51 níveis"
   ]
  },
  {
   "cell_type": "code",
   "execution_count": 60,
   "metadata": {},
   "outputs": [
    {
     "data": {
      "text/html": [
       "<div>\n",
       "<style scoped>\n",
       "    .dataframe tbody tr th:only-of-type {\n",
       "        vertical-align: middle;\n",
       "    }\n",
       "\n",
       "    .dataframe tbody tr th {\n",
       "        vertical-align: top;\n",
       "    }\n",
       "\n",
       "    .dataframe thead th {\n",
       "        text-align: right;\n",
       "    }\n",
       "</style>\n",
       "<table border=\"1\" class=\"dataframe\">\n",
       "  <thead>\n",
       "    <tr style=\"text-align: right;\">\n",
       "      <th></th>\n",
       "      <th>count</th>\n",
       "      <th>percent</th>\n",
       "      <th>cumulative</th>\n",
       "    </tr>\n",
       "    <tr>\n",
       "      <th>sum_gamerounds</th>\n",
       "      <th></th>\n",
       "      <th></th>\n",
       "      <th></th>\n",
       "    </tr>\n",
       "  </thead>\n",
       "  <tbody>\n",
       "    <tr>\n",
       "      <th>0</th>\n",
       "      <td>3994</td>\n",
       "      <td>4.428527</td>\n",
       "      <td>4.428527</td>\n",
       "    </tr>\n",
       "    <tr>\n",
       "      <th>1</th>\n",
       "      <td>5538</td>\n",
       "      <td>6.140506</td>\n",
       "      <td>10.569034</td>\n",
       "    </tr>\n",
       "    <tr>\n",
       "      <th>2</th>\n",
       "      <td>4606</td>\n",
       "      <td>5.107110</td>\n",
       "      <td>15.676143</td>\n",
       "    </tr>\n",
       "    <tr>\n",
       "      <th>3</th>\n",
       "      <td>3958</td>\n",
       "      <td>4.388610</td>\n",
       "      <td>20.064754</td>\n",
       "    </tr>\n",
       "    <tr>\n",
       "      <th>4</th>\n",
       "      <td>3629</td>\n",
       "      <td>4.023817</td>\n",
       "      <td>24.088571</td>\n",
       "    </tr>\n",
       "    <tr>\n",
       "      <th>5</th>\n",
       "      <td>2992</td>\n",
       "      <td>3.317515</td>\n",
       "      <td>27.406085</td>\n",
       "    </tr>\n",
       "    <tr>\n",
       "      <th>6</th>\n",
       "      <td>2861</td>\n",
       "      <td>3.172262</td>\n",
       "      <td>30.578347</td>\n",
       "    </tr>\n",
       "    <tr>\n",
       "      <th>7</th>\n",
       "      <td>2379</td>\n",
       "      <td>2.637823</td>\n",
       "      <td>33.216171</td>\n",
       "    </tr>\n",
       "    <tr>\n",
       "      <th>8</th>\n",
       "      <td>2267</td>\n",
       "      <td>2.513638</td>\n",
       "      <td>35.729809</td>\n",
       "    </tr>\n",
       "    <tr>\n",
       "      <th>9</th>\n",
       "      <td>2013</td>\n",
       "      <td>2.232004</td>\n",
       "      <td>37.961813</td>\n",
       "    </tr>\n",
       "    <tr>\n",
       "      <th>10</th>\n",
       "      <td>1752</td>\n",
       "      <td>1.942609</td>\n",
       "      <td>39.904422</td>\n",
       "    </tr>\n",
       "  </tbody>\n",
       "</table>\n",
       "</div>"
      ],
      "text/plain": [
       "                count   percent  cumulative\n",
       "sum_gamerounds                             \n",
       "0                3994  4.428527    4.428527\n",
       "1                5538  6.140506   10.569034\n",
       "2                4606  5.107110   15.676143\n",
       "3                3958  4.388610   20.064754\n",
       "4                3629  4.023817   24.088571\n",
       "5                2992  3.317515   27.406085\n",
       "6                2861  3.172262   30.578347\n",
       "7                2379  2.637823   33.216171\n",
       "8                2267  2.513638   35.729809\n",
       "9                2013  2.232004   37.961813\n",
       "10               1752  1.942609   39.904422"
      ]
     },
     "execution_count": 60,
     "metadata": {},
     "output_type": "execute_result"
    }
   ],
   "source": [
    "df1 = cookies.groupby('sum_gamerounds').userid.agg(['count'])\n",
    "df1['percent'] = 100*(df1['count']/90188)\n",
    "df1['cumulative'] = 100*(df1['count'].cumsum() / df1['count'].sum())\n",
    "df1.head(11)"
   ]
  },
  {
   "cell_type": "markdown",
   "metadata": {},
   "source": [
    "Em mais detalhes, verificando os percentuais acumulados, vemos que:\n",
    "- 3994 dos usuários, ou 4,43%, não avançaram nenhum nível\n",
    "- 20% dos usuários avançaram 3 níveis ou menos\n",
    "- 40% dos usuários chegaram até o 10º nível"
   ]
  },
  {
   "cell_type": "code",
   "execution_count": 73,
   "metadata": {},
   "outputs": [
    {
     "data": {
      "text/plain": [
       "Text(0.5, 0, 'Nº de rounds')"
      ]
     },
     "execution_count": 73,
     "metadata": {},
     "output_type": "execute_result"
    },
    {
     "data": {
      "image/png": "[encoded data removed]",
      "text/plain": [
       "<Figure size 432x288 with 1 Axes>"
      ]
     },
     "metadata": {
      "needs_background": "light"
     },
     "output_type": "display_data"
    }
   ],
   "source": [
    "ax = cookies.groupby('sum_gamerounds').userid.count()[:101].plot()\n",
    "ax.set_title(\"Jogadores x níveis\")\n",
    "ax.set_ylabel(\"Nº de jogadores\")\n",
    "ax.set_xlabel('Nº de níveis')"
   ]
  },
  {
   "cell_type": "markdown",
   "metadata": {},
   "source": [
    "Representação gráfica do número de jogadores por número de níveis jogados. Nota-se uma queda bastante acentuada até 15 níveis, depois o número é razoavelmente nivelado."
   ]
  },
  {
   "cell_type": "markdown",
   "metadata": {},
   "source": [
    "## Grupos"
   ]
  },
  {
   "cell_type": "code",
   "execution_count": 31,
   "metadata": {
    "scrolled": true
   },
   "outputs": [
    {
     "data": {
      "text/html": [
       "<div>\n",
       "<style scoped>\n",
       "    .dataframe tbody tr th:only-of-type {\n",
       "        vertical-align: middle;\n",
       "    }\n",
       "\n",
       "    .dataframe tbody tr th {\n",
       "        vertical-align: top;\n",
       "    }\n",
       "\n",
       "    .dataframe thead th {\n",
       "        text-align: right;\n",
       "    }\n",
       "</style>\n",
       "<table border=\"1\" class=\"dataframe\">\n",
       "  <thead>\n",
       "    <tr style=\"text-align: right;\">\n",
       "      <th></th>\n",
       "      <th>count</th>\n",
       "      <th>min</th>\n",
       "      <th>max</th>\n",
       "      <th>mean</th>\n",
       "    </tr>\n",
       "    <tr>\n",
       "      <th>version</th>\n",
       "      <th></th>\n",
       "      <th></th>\n",
       "      <th></th>\n",
       "      <th></th>\n",
       "    </tr>\n",
       "  </thead>\n",
       "  <tbody>\n",
       "    <tr>\n",
       "      <th>gate_30</th>\n",
       "      <td>44699</td>\n",
       "      <td>0</td>\n",
       "      <td>2961</td>\n",
       "      <td>51.342111</td>\n",
       "    </tr>\n",
       "    <tr>\n",
       "      <th>gate_40</th>\n",
       "      <td>45489</td>\n",
       "      <td>0</td>\n",
       "      <td>2640</td>\n",
       "      <td>51.298776</td>\n",
       "    </tr>\n",
       "  </tbody>\n",
       "</table>\n",
       "</div>"
      ],
      "text/plain": [
       "         count  min   max       mean\n",
       "version                             \n",
       "gate_30  44699    0  2961  51.342111\n",
       "gate_40  45489    0  2640  51.298776"
      ]
     },
     "execution_count": 31,
     "metadata": {},
     "output_type": "execute_result"
    }
   ],
   "source": [
    "cookies.groupby('version').sum_gamerounds.agg(['count','min','max','mean'])"
   ]
  },
  {
   "cell_type": "markdown",
   "metadata": {},
   "source": [
    "Os usuários foram selecionados aleatoriamente e divididos em dois grupos, sendo:\n",
    "- 44700 usuários no grupo controle\n",
    "- 45489 usuários no grupo teste\n",
    "\n",
    "A média de níveis jogados foi bem semelhante entre os dois grupos, 51,34 e 51,29 níveis, respectivamente"
   ]
  },
  {
   "cell_type": "markdown",
   "metadata": {},
   "source": [
    "### Grupo de controle"
   ]
  },
  {
   "cell_type": "code",
   "execution_count": 68,
   "metadata": {},
   "outputs": [
    {
     "data": {
      "text/plain": [
       "Text(0.5, 1.0, 'Jogadores por Grupo (Controle)')"
      ]
     },
     "execution_count": 68,
     "metadata": {},
     "output_type": "execute_result"
    },
    {
     "data": {
      "image/png": "[encoded data removed]",
      "text/plain": [
       "<Figure size 432x288 with 1 Axes>"
      ]
     },
     "metadata": {
      "needs_background": "light"
     },
     "output_type": "display_data"
    }
   ],
   "source": [
    "plt.hist(cookies[cookies.version == 'gate_30']['sum_gamerounds'],label='gate_30',bins=20)\n",
    "plt.legend(loc='upper right')\n",
    "plt.xlabel('Níveis')\n",
    "plt.ylabel('Jogadores')\n",
    "plt.title('Jogadores por Grupo (Controle)')"
   ]
  },
  {
   "cell_type": "markdown",
   "metadata": {},
   "source": [
    "Como já verificado nos dados gerais, o mesmo ocorre no grupo de controle, uma distribuição extremamente assimétrica dos dados"
   ]
  },
  {
   "cell_type": "code",
   "execution_count": 65,
   "metadata": {},
   "outputs": [
    {
     "data": {
      "text/plain": [
       "5.940197804240085"
      ]
     },
     "execution_count": 65,
     "metadata": {},
     "output_type": "execute_result"
    }
   ],
   "source": [
    "skew(cookies[cookies.version == 'gate_30'].sum_gamerounds)"
   ]
  },
  {
   "cell_type": "markdown",
   "metadata": {},
   "source": [
    "Isso também é evidenciado pelo alto índice de \"Skewness\" encontrado através do teste estatístico correspondente, **5,94** indica uma distribuição altamente assimétrica"
   ]
  },
  {
   "cell_type": "markdown",
   "metadata": {},
   "source": [
    "### Grupo de teste"
   ]
  },
  {
   "cell_type": "code",
   "execution_count": 69,
   "metadata": {},
   "outputs": [
    {
     "data": {
      "text/plain": [
       "Text(0.5, 1.0, 'Jogadores por Grupo (Teste)')"
      ]
     },
     "execution_count": 69,
     "metadata": {},
     "output_type": "execute_result"
    },
    {
     "data": {
      "image/png": "[encoded data removed]",
      "text/plain": [
       "<Figure size 432x288 with 1 Axes>"
      ]
     },
     "metadata": {
      "needs_background": "light"
     },
     "output_type": "display_data"
    }
   ],
   "source": [
    "plt.hist(cookies[cookies.version == 'gate_40']['sum_gamerounds'],label='gate_40',bins=20)\n",
    "plt.legend(loc='upper right')\n",
    "plt.xlabel('Níveis')\n",
    "plt.ylabel('Jogadores')\n",
    "plt.title('Jogadores por Grupo (Teste)')"
   ]
  },
  {
   "cell_type": "code",
   "execution_count": 70,
   "metadata": {},
   "outputs": [
    {
     "data": {
      "text/plain": [
       "5.967091125563528"
      ]
     },
     "execution_count": 70,
     "metadata": {},
     "output_type": "execute_result"
    }
   ],
   "source": [
    "skew(cookies[cookies.version == 'gate_40'].sum_gamerounds)"
   ]
  },
  {
   "cell_type": "markdown",
   "metadata": {},
   "source": [
    "Um número muito semelhante **5,96** também indica assimetria semelhante ao grupo de usuários de teste.\n",
    "Porque dedicamos tempo à identificação da distribuição dos dados? Porque esse é um dos principais fatores utilizados na escolha do teste estatístico para determinar a significância dos dados encontrados.\n",
    "Recapitulando, temos:\n",
    "- Distribuição assimétrica (não-Normal)\n",
    "- Amostras independentes (não se tratam dos mesmos jogadores, mas sim de um grupo totalmente diferente)\n",
    "- Amostra de grande número"
   ]
  },
  {
   "cell_type": "markdown",
   "metadata": {},
   "source": [
    "## Teste de significância\n",
    "Aqui faremos um teste de hipótese para responder à pergunta: a mudança do portal do nível 30 para o 40 influencia o número de níveis jogados? Ou seja, fazer a mudança fez com que os usuários perdessem o interesse pelo jogo com tudo mais se mantendo da mesma forma?\n",
    "- Hipótese nula (H0): não faz diferença\n",
    "- Hipótese alternativa (H1): sim, influencia  \n",
    "\n",
    "Com base nos parâmetros acima, foi utilizado o teste **Mann-Whitney U**, que é o teste não-paramétrico indicado para amostras independentes distribuídas de forma não-Normal."
   ]
  },
  {
   "cell_type": "code",
   "execution_count": 8,
   "metadata": {},
   "outputs": [
    {
     "data": {
      "text/plain": [
       "MannwhitneyuResult(statistic=1024331250.5, pvalue=0.050208807720442505)"
      ]
     },
     "execution_count": 8,
     "metadata": {},
     "output_type": "execute_result"
    }
   ],
   "source": [
    "scipy.stats.mannwhitneyu(*cookies.groupby('version')['sum_gamerounds'].apply(lambda x:list(x)), alternative='two-sided')"
   ]
  },
  {
   "cell_type": "markdown",
   "metadata": {},
   "source": [
    "Obs: O valor alto da estatística U se deve ao tamanho da amostra (mais de 40.000 usuários)\n",
    "\n",
    "O p-value de **0.502** está ligeiramente acima do valor de corte estabelecido previamente de 0.05, mas atuando conservadoramente e com base no tamanho da amostra, podemos dizer que rejeita-se a hipótese de que as amostras são iguais, ou seja: com base nos dados coletados, houve diferença no número de níveis jogados entre os dois grupos.  \n",
    "Ou ainda em termos mais naturais: **a melhor decisão é não mudar o portão para o nível 40.**"
   ]
  },
  {
   "cell_type": "markdown",
   "metadata": {},
   "source": [
    "## Retenção de jogadores - 1 dia\n",
    "Outra informação disponível nos dados é sobre a retenção, ou seja, um flag indicando se o jogador voltou a jogar um dia após instalar o jogo ou não"
   ]
  },
  {
   "cell_type": "code",
   "execution_count": 64,
   "metadata": {},
   "outputs": [
    {
     "data": {
      "text/plain": [
       "0.4452095044850259"
      ]
     },
     "execution_count": 64,
     "metadata": {},
     "output_type": "execute_result"
    }
   ],
   "source": [
    "cookies.retention_1.mean()"
   ]
  },
  {
   "cell_type": "code",
   "execution_count": 29,
   "metadata": {},
   "outputs": [
    {
     "data": {
      "text/plain": [
       "version\n",
       "gate_30    0.448198\n",
       "gate_40    0.442283\n",
       "Name: retention_1, dtype: float64"
      ]
     },
     "execution_count": 29,
     "metadata": {},
     "output_type": "execute_result"
    }
   ],
   "source": [
    "cookies.groupby('version').retention_1.mean()"
   ]
  },
  {
   "cell_type": "markdown",
   "metadata": {},
   "source": [
    "Em média 44,52% dos jogadores voltaram no dia seguinte, com números bem semelhantes entre os dois grupos: 44,82% e 44,22%"
   ]
  },
  {
   "cell_type": "markdown",
   "metadata": {},
   "source": [
    "## Retenção de jogadores - 7 dias\n",
    "Da mesma forma, é possível analisar a retenção ao longo de 7 dias, um indicativo muito melhor de continuação de uso do app"
   ]
  },
  {
   "cell_type": "code",
   "execution_count": 65,
   "metadata": {},
   "outputs": [
    {
     "data": {
      "text/plain": [
       "0.1860648194347426"
      ]
     },
     "execution_count": 65,
     "metadata": {},
     "output_type": "execute_result"
    }
   ],
   "source": [
    "cookies.retention_7.mean()"
   ]
  },
  {
   "cell_type": "code",
   "execution_count": 72,
   "metadata": {},
   "outputs": [
    {
     "data": {
      "text/plain": [
       "version\n",
       "gate_30    0.190183\n",
       "gate_40    0.182000\n",
       "Name: retention_7, dtype: float64"
      ]
     },
     "execution_count": 72,
     "metadata": {},
     "output_type": "execute_result"
    }
   ],
   "source": [
    "cookies.groupby('version').retention_7.mean()"
   ]
  },
  {
   "cell_type": "markdown",
   "metadata": {},
   "source": [
    "Em média 18,6% dos jogadores voltaram em uma semana. Aqui os números não foram mais tão semelhantes, a diferença de 0,8% representa mais de 200 jogadores que não voltaram depois de 7 dias no grupo onde havia sido realizada a mudança."
   ]
  },
  {
   "cell_type": "markdown",
   "metadata": {},
   "source": [
    "## Conclusão  \n",
    "\n",
    "Alguns insights que podem ser extraídos dos dados:\n",
    "- Um jogador jogou 49500 níveis nos primeiros 14 dias, seria um erro na captura dos dados, um cheater?\n",
    "- Muitos jogadores jogaram poucos níveis ou nenhum, mesmo os primeiros níveis do jogo sendo muito simples\n",
    "- A média foi de 51 níveis por jogador, mas o número foi inflado devido ao número de jogadores que jogaram mais de 1000 níveis\n",
    "\n",
    "\n",
    "Resultados do teste A/B:\n",
    "- Apesar de não parecer de primeira vista, a mudança testada trouxe resultados positivos em termos de número de níveis jogados\n"
   ]
  }
 ],
 "metadata": {
  "kernelspec": {
   "display_name": "Python 3",
   "language": "python",
   "name": "python3"
  },
  "language_info": {
   "codemirror_mode": {
    "name": "ipython",
    "version": 3
   },
   "file_extension": ".py",
   "mimetype": "text/x-python",
   "name": "python",
   "nbconvert_exporter": "python",
   "pygments_lexer": "ipython3",
   "version": "3.7.6"
  }
 },
 "nbformat": 4,
 "nbformat_minor": 4
}
